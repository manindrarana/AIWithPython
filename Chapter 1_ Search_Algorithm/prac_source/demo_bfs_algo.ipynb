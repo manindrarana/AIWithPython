{
 "cells": [
  {
   "cell_type": "code",
   "execution_count": 5,
   "metadata": {},
   "outputs": [],
   "source": [
    "import sys"
   ]
  },
  {
   "cell_type": "code",
   "execution_count": 3,
   "metadata": {},
   "outputs": [],
   "source": [
    "# class for the node\n",
    "class Node():\n",
    "    def __init__(self,state,parent,action):\n",
    "        self.state = state\n",
    "        self.parent = parent\n",
    "        self.action = action \n",
    "\n"
   ]
  },
  {
   "cell_type": "code",
   "execution_count": 4,
   "metadata": {},
   "outputs": [],
   "source": [
    "#class for the QueueFrontier\n",
    "class QueueFrontier():\n",
    "    def __init__(self):\n",
    "        self.frontier= []\n",
    "    \n",
    "    def add(self,node):\n",
    "        self.frontier.append(node)\n",
    "    \n",
    "    def contains_node(self,state):\n",
    "        return any(node.state == state for node in self.frontier)\n",
    "\n",
    "    def empty(self):\n",
    "        return len(self.frontier) == 0\n",
    "    \n",
    "    def remove(self):\n",
    "        if  self.empty():\n",
    "            return Exception(\"no soution for empty frontier\")\n",
    "        else:\n",
    "            return self.frontier.pop(0) #popping out first elem \n",
    "\n"
   ]
  },
  {
   "cell_type": "code",
   "execution_count": null,
   "metadata": {},
   "outputs": [],
   "source": [
    "#class for the maze file\n",
    "class Maze():\n",
    "    def __init__(self, filename):\n",
    "    \n",
    "        #Reading the filename and set height and width of maze\n",
    "        with open(filename) as f:\n",
    "            content = f.read()\n",
    "        #checking either if we hacve the starting point and goal point \n",
    "        if content.count('A') != 1:\n",
    "            raise Exception(\"didn't found the starting point A\")\n",
    "        if content.count('B') != 1:\n",
    "            raise Exception(\"didn't found the goal point B\")"
   ]
  }
 ],
 "metadata": {
  "kernelspec": {
   "display_name": "Python 3",
   "language": "python",
   "name": "python3"
  },
  "language_info": {
   "codemirror_mode": {
    "name": "ipython",
    "version": 3
   },
   "file_extension": ".py",
   "mimetype": "text/x-python",
   "name": "python",
   "nbconvert_exporter": "python",
   "pygments_lexer": "ipython3",
   "version": "3.12.1"
  }
 },
 "nbformat": 4,
 "nbformat_minor": 2
}
